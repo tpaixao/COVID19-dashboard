{
 "cells": [
  {
   "cell_type": "code",
   "execution_count": 17,
   "metadata": {},
   "outputs": [],
   "source": [
    "import requests\n",
    "from io import StringIO\n",
    "\n",
    "import pandas as pd\n",
    "import numpy as np\n",
    "import matplotlib\n",
    "import matplotlib.pyplot as plt\n",
    "import scipy.stats as stats\n",
    "\n",
    "from scipy.optimize import curve_fit\n",
    "\n",
    "import re\n",
    "\n",
    "from ipywidgets import interact, interactive, fixed, interact_manual, interactive_output\n",
    "import ipywidgets as widgets\n",
    "import bqplot as bq\n",
    "\n",
    "from datetime import datetime\n",
    "import warnings\n",
    "\n",
    "warnings.filterwarnings('ignore')\n",
    "matplotlib.style.use('ggplot')"
   ]
  },
  {
   "cell_type": "code",
   "execution_count": 21,
   "metadata": {},
   "outputs": [],
   "source": [
    "def get_data():\n",
    "    confirmed = requests.get('https://raw.githubusercontent.com/CSSEGISandData/COVID-19/master/csse_covid_19_data/csse_covid_19_time_series/time_series_covid19_confirmed_global.csv').text\n",
    "    deaths = requests.get('https://raw.githubusercontent.com/CSSEGISandData/COVID-19/master/csse_covid_19_data/csse_covid_19_time_series/time_series_covid19_deaths_global.csv').text\n",
    "    recovered = requests.get('https://raw.githubusercontent.com/CSSEGISandData/COVID-19/master/csse_covid_19_data/csse_covid_19_time_series/time_series_covid19_recovered_global.csv').text\n",
    "\n",
    "    confirmed_df = pd.read_csv(StringIO(confirmed))\n",
    "    deaths_df = pd.read_csv(StringIO(deaths))\n",
    "    recovered_df = pd.read_csv(StringIO(recovered))\n",
    "    \n",
    "    c_df = filter_active_countries(confirmed_df)\n",
    "    d_df = filter_active_countries(deaths_df)\n",
    "    r_df = filter_active_countries(recovered_df)\n",
    "    \n",
    "    return c_df,d_df,r_df\n",
    "\n",
    "def filter_active_countries(df):\n",
    "    df1 = df.groupby(by='Country/Region').sum()\n",
    "    return df1.copy()\n"
   ]
  },
  {
   "cell_type": "code",
   "execution_count": 31,
   "metadata": {},
   "outputs": [],
   "source": [
    "confirmed_df,deaths_df,recovered_df = get_data()\n",
    "\n",
    "df = filter_active_countries(confirmed_df)\n",
    "dfs = [filter_active_countries(confirmed_df),\\\n",
    "       filter_active_countries(recovered_df),\\\n",
    "       filter_active_countries(deaths_df)]\n",
    "\n",
    "all_countries = df.index.tolist()"
   ]
  },
  {
   "cell_type": "markdown",
   "metadata": {},
   "source": [
    "# COVID19 Dashboard\n",
    "\n",
    "<!-- <div class=\"alert alert-danger\"> -->\n",
    "\n",
    "    \n",
    "This dashboard estimates growth rates of the number of infected people by the current COVID19 pandemic. It allows to compare these estimates between countries.\n",
    "\n",
    "* you can select several countries by pressing ctrl\n",
    "* you can change the number of days in which the estimate is based  using the top left dropdown.\n",
    "    \n",
    "    \n",
    "**Important**: \n",
    "* Testing coverage is uneven between countries.\n",
    "* The data is only updated once a day and is based on data from WHO. Individual countries do not report the data everyday, so there may be some fluctuations\n",
    "* Estimating exponential growth rates from just a few datapoints can lead to large uncertainties\n",
    "    \n",
    " \n",
    "<!-- </div> -->"
   ]
  },
  {
   "cell_type": "code",
   "execution_count": 32,
   "metadata": {},
   "outputs": [],
   "source": [
    "def plot_timeline(countries,days=7,df_idx=0,range_day=0):\n",
    "    \n",
    "#     countries = country_select.value\n",
    "    fig,ax = plt.subplots(figsize=(12,4))\n",
    "\n",
    "    color_scheme = plt.get_cmap('tab20')\n",
    "\n",
    "#     df = confirmed_df.groupby(by='Country/Region').sum()\n",
    "\n",
    "    for idx,country in enumerate(countries):\n",
    "        timepoints = pd.to_datetime(df.columns[2:])\n",
    "\n",
    "        tp0 = timepoints[0]\n",
    "        tps = np.array([ (tp-tp0).days for tp in timepoints ])\n",
    "        \n",
    "        values = dfs[df_idx].loc[country].iloc[2:].to_numpy()\n",
    "        plt.plot( tps, np.log10(np.array(values.tolist())),label=country,marker='.',c=color_scheme(idx/len(countries)) )\n",
    "        \n",
    "        ## linear regresions\n",
    "\n",
    "\n",
    "        lr = stats.linregress(tps[-days:],np.log10(values[-days:].tolist()))\n",
    "        m = lr.slope\n",
    "        a = lr.intercept\n",
    "#         print(m)\n",
    "        if not np.isnan(m):\n",
    "            xx = np.array([tps[-days],tps[-1]+4])\n",
    "            xx2 = np.array([timepoints[-days],timepoints[-1]+pd.to_timedelta(5,unit='d')])\n",
    "\n",
    "            yy = np.array([ m*x+a for x in xx ])\n",
    "#             print(xx,yy,m)\n",
    "            plt.plot(xx,yy,ls='--',c=color_scheme(idx/len(countries)))\n",
    "\n",
    "    plt.title('Number of infected\\n Dashed line is prediction based on growth rate estimate from the last %d days'%days)\n",
    "    plt.legend(loc='upper left')\n",
    "#     plt.xlabel('time (days)')\n",
    "    plt.xlim(tps[range_day],tps[-1]+5)\n",
    "\n",
    "    plt.ylabel('Number of confirmed cases (log)')\n",
    "    plt.yticks(range(6),[ \"$10^%d$\"%i for i in range(6)] );\n",
    "    \n"
   ]
  },
  {
   "cell_type": "code",
   "execution_count": 33,
   "metadata": {},
   "outputs": [],
   "source": [
    "def plot_change_R(countries,days,df_idx=0,range_day=0):\n",
    "    plt.subplots(figsize=(12,4))\n",
    "\n",
    "    color_scheme = plt.get_cmap('tab20')\n",
    "\n",
    "    rolling_slopes = []\n",
    "\n",
    "    for idx,country in enumerate(countries):\n",
    "        timepoints = pd.to_datetime(df.columns[2:])\n",
    "\n",
    "        values = dfs[df_idx].loc[country].iloc[2:].to_numpy()\n",
    "\n",
    "        ## linear regresions\n",
    "        tp0 = timepoints[0]\n",
    "        tps = np.array([ (tp-tp0).days for tp in timepoints ])\n",
    "\n",
    "        rolling_slopes = []\n",
    "        stderrs = []\n",
    "        for first_index in range(days,values.shape[0]):\n",
    "            lr = stats.linregress(tps[first_index-days:first_index],\\\n",
    "                                  np.log10(values[first_index-days:first_index]))\n",
    "            rolling_slopes.append(lr.slope)\n",
    "            stderrs.append(lr.stderr)\n",
    "        \n",
    "        rolling_slopes = np.array(rolling_slopes)\n",
    "        stderrs = np.array(stderrs)\n",
    "        xx = np.arange(days,days+len(rolling_slopes))\n",
    "        \n",
    "        plt.plot(xx,rolling_slopes,label=country,marker='.',c=color_scheme(idx/len(countries)))\n",
    "        plt.fill_between(xx,rolling_slopes+1.96*stderrs,rolling_slopes-1.96*stderrs,\\\n",
    "                         color=color_scheme(idx/len(countries)),alpha=.2)\n",
    "        \n",
    "        \n",
    "    plt.title('Change in growth rate estimate\\nbased on the previous %d days'%days)\n",
    "    plt.legend(loc = 'upper left')\n",
    "    plt.xlabel('Time (days)')\n",
    "#     plt.ylabel('Apparent $R$\\n%d day average'%days)\n",
    "    plt.ylabel('Apparent $R$ (%d day estimate)'%days)\n",
    "    plt.xlim(tps[range_day],tps[-1]+5)\n",
    "    tics = plt.yticks()\n",
    "    plt.yticks(tics[0], [ \"%.2f\"%10**tic for tic in tics[0]] );"
   ]
  },
  {
   "cell_type": "code",
   "execution_count": 37,
   "metadata": {
    "scrolled": false
   },
   "outputs": [
    {
     "data": {
      "application/vnd.jupyter.widget-view+json": {
       "model_id": "67b667a288854a459ded9597935df0e8",
       "version_major": 2,
       "version_minor": 0
      },
      "text/plain": [
       "HBox(children=(VBox(children=(HBox(children=(Dropdown(description='days to estimate R', index=3, layout=Layout…"
      ]
     },
     "metadata": {},
     "output_type": "display_data"
    }
   ],
   "source": [
    "layout_sidebar = widgets.Layout(width=\"20%\")\n",
    "\n",
    "country_select = widgets.SelectMultiple(\n",
    "    options=all_countries,\n",
    "    value=['Portugal'],\n",
    "    rows=25,\n",
    "#     description='Countries\\n(select several with Ctrl)',\n",
    "    disabled=False,\n",
    "    layout=widgets.Layout(width='auto')\n",
    ")\n",
    "\n",
    "df_select = widgets.Dropdown(value=0,options=[('Confirmed',0),(\"Deaths\",1),(\"Recovered\",2)],layout=widgets.Layout(width='auto'))\n",
    "\n",
    "# day_select = widgets.IntSlider(value=7,min=4,max=15,continuous_update=False,description='',layout=widgets.Layout(width='auto'))\n",
    "day_select = widgets.Dropdown(value=7,options=[i for i in range(4,16)] ,description='days to estimate R',layout=widgets.Layout(width='auto'))\n",
    "max_day = df.columns.shape[0]-2\n",
    "# range_day = widgets.Dropdown(value=0,options=[i for i in range(0,max_day)] ,description='',layout=widgets.Layout(width='auto'))\n",
    "range_day = widgets.IntSlider(value=0,min=0,max=max_day ,continuous_update=False,description='',layout=widgets.Layout(width='auto'))\n",
    "\n",
    "\n",
    "out_timeline = interactive_output(plot_timeline,{'countries':country_select,'days':day_select,'range_day':range_day,'df_idx':df_select})\n",
    "out_r = interactive_output(plot_change_R,{'countries':country_select,'days':day_select,'range_day':range_day,'df_idx':df_select})\n",
    "\n",
    "\n",
    "display(widgets.HBox([widgets.VBox([widgets.HBox([day_select,df_select]),country_select],layout=layout_sidebar),widgets.VBox([range_day,out_timeline,out_r])]))"
   ]
  },
  {
   "cell_type": "code",
   "execution_count": 36,
   "metadata": {},
   "outputs": [
    {
     "data": {
      "image/png": "[encoded data removed]",
      "text/plain": [
       "<Figure size 864x288 with 1 Axes>"
      ]
     },
     "metadata": {},
     "output_type": "display_data"
    }
   ],
   "source": [
    "plot_timeline(all_countries[:4],)"
   ]
  },
  {
   "cell_type": "code",
   "execution_count": null,
   "metadata": {},
   "outputs": [],
   "source": []
  }
 ],
 "metadata": {
  "kernelspec": {
   "display_name": "Python 3",
   "language": "python",
   "name": "python3"
  },
  "language_info": {
   "codemirror_mode": {
    "name": "ipython",
    "version": 3
   },
   "file_extension": ".py",
   "mimetype": "text/x-python",
   "name": "python",
   "nbconvert_exporter": "python",
   "pygments_lexer": "ipython3",
   "version": "3.7.3"
  }
 },
 "nbformat": 4,
 "nbformat_minor": 4
}
